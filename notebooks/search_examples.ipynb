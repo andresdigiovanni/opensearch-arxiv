{
 "cells": [
  {
   "cell_type": "markdown",
   "metadata": {},
   "source": [
    "# 🔎 OpenSearch Search Examples"
   ]
  },
  {
   "cell_type": "markdown",
   "metadata": {},
   "source": [
    "This notebook demonstrates how to run different types of search queries over\n",
    "a local OpenSearch index containing arXiv papers. The queries include:\n",
    "\n",
    "1. BM25 full-text search\n",
    "2. Dense vector (semantic) search using BGE embeddings\n",
    "3. Hybrid search combining both approaches\n",
    "\n",
    "Requirements:\n",
    "- OpenSearch running at localhost:9200\n",
    "- Local embedding API available at localhost:8000"
   ]
  },
  {
   "cell_type": "code",
   "execution_count": null,
   "metadata": {},
   "outputs": [],
   "source": [
    "from opensearchpy import OpenSearch\n",
    "import requests"
   ]
  },
  {
   "cell_type": "code",
   "execution_count": null,
   "metadata": {},
   "outputs": [],
   "source": [
    "# Index name in OpenSearch\n",
    "INDEX_NAME = \"arxiv-papers\"\n",
    "\n",
    "# URL of the local embedding API\n",
    "EMBEDDING_API_URL = \"http://localhost:8000/v1/embeddings\""
   ]
  },
  {
   "cell_type": "code",
   "execution_count": null,
   "metadata": {},
   "outputs": [],
   "source": [
    "# Connect to OpenSearch\n",
    "client = OpenSearch(\n",
    "    hosts=[{\"host\": \"localhost\", \"port\": 9200}],\n",
    "    http_compress=True,\n",
    "    verify_certs=False,\n",
    "    ssl_show_warn=False,\n",
    ")"
   ]
  },
  {
   "cell_type": "code",
   "execution_count": null,
   "metadata": {},
   "outputs": [],
   "source": [
    "def get_embedding(text):\n",
    "    \"\"\"\n",
    "    Query the local embedding API to obtain a dense vector\n",
    "    using the BGE model.\n",
    "    \"\"\"\n",
    "    payload = {\"input\": [text]}\n",
    "    headers = {\"Content-Type\": \"application/json\"}\n",
    "    response = requests.post(EMBEDDING_API_URL, json=payload, headers=headers)\n",
    "    return response.json()[\"data\"][0][\"embedding\"]"
   ]
  },
  {
   "cell_type": "markdown",
   "metadata": {},
   "source": [
    "# 1. BM25 Full-Text Search"
   ]
  },
  {
   "cell_type": "code",
   "execution_count": null,
   "metadata": {},
   "outputs": [],
   "source": [
    "query_text = \"retrieval augmented generation\"\n",
    "\n",
    "bm25_query = {\"size\": 5, \"query\": {\"match\": {\"chunk_text\": query_text}}}\n",
    "\n",
    "response = client.search(index=INDEX_NAME, body=bm25_query)\n",
    "\n",
    "print(\"🔎 Top BM25 Results:\\n\")\n",
    "for hit in response[\"hits\"][\"hits\"]:\n",
    "    print(\"📄 Score:\", round(hit[\"_score\"], 2))\n",
    "    print(hit[\"_source\"][\"chunk_text\"][:300], \"...\\n\")"
   ]
  },
  {
   "cell_type": "markdown",
   "metadata": {},
   "source": [
    "# 2. Dense Vector Search (k-NN)"
   ]
  },
  {
   "cell_type": "code",
   "execution_count": null,
   "metadata": {},
   "outputs": [],
   "source": [
    "embedding = get_embedding(query_text)\n",
    "\n",
    "knn_query = {\"size\": 5, \"query\": {\"knn\": {\"embedding\": {\"vector\": embedding, \"k\": 5}}}}\n",
    "\n",
    "response = client.search(index=INDEX_NAME, body=knn_query)\n",
    "\n",
    "print(\"📐 Top Vector Search Results:\\n\")\n",
    "for hit in response[\"hits\"][\"hits\"]:\n",
    "    print(\"📄 Score:\", round(hit[\"_score\"], 2))\n",
    "    print(hit[\"_source\"][\"chunk_text\"][:300], \"...\\n\")"
   ]
  },
  {
   "cell_type": "markdown",
   "metadata": {},
   "source": [
    "# 3. Hybrid Search: BM25 + Vector Similarity"
   ]
  },
  {
   "cell_type": "code",
   "execution_count": null,
   "metadata": {},
   "outputs": [],
   "source": [
    "hybrid_query = {\n",
    "    \"size\": 5,\n",
    "    \"query\": {\n",
    "        \"script_score\": {\n",
    "            \"query\": {\"match\": {\"chunk_text\": query_text}},\n",
    "            \"script\": {\n",
    "                \"source\": \"cosineSimilarity(params.query_vector, doc['embedding']) + 1.0\",\n",
    "                \"params\": {\"query_vector\": embedding},\n",
    "            },\n",
    "        }\n",
    "    },\n",
    "}\n",
    "\n",
    "response = client.search(index=INDEX_NAME, body=hybrid_query)\n",
    "\n",
    "print(\"🧪 Top Hybrid Search Results:\\n\")\n",
    "for hit in response[\"hits\"][\"hits\"]:\n",
    "    print(\"📄 Score:\", round(hit[\"_score\"], 2))\n",
    "    print(hit[\"_source\"][\"chunk_text\"][:300], \"...\\n\")"
   ]
  },
  {
   "cell_type": "code",
   "execution_count": null,
   "metadata": {},
   "outputs": [],
   "source": []
  }
 ],
 "metadata": {
  "kernelspec": {
   "display_name": "opensearch-arxiv",
   "language": "python",
   "name": "python3"
  },
  "language_info": {
   "codemirror_mode": {
    "name": "ipython",
    "version": 3
   },
   "file_extension": ".py",
   "mimetype": "text/x-python",
   "name": "python",
   "nbconvert_exporter": "python",
   "pygments_lexer": "ipython3",
   "version": "3.11.6"
  }
 },
 "nbformat": 4,
 "nbformat_minor": 4
}
